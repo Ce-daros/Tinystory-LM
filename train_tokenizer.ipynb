{
 "cells": [
  {
   "cell_type": "markdown",
   "metadata": {},
   "source": [
    "# Train"
   ]
  },
  {
   "cell_type": "code",
   "execution_count": 18,
   "metadata": {},
   "outputs": [
    {
     "name": "stdout",
     "output_type": "stream",
     "text": [
      "<|start_story|>Anna and Ben are playing with their toys in the living room. Anna has a lot of dolls and Ben has a lot of cars. They like to count their toys and see who has more.\n",
      "\"I have one, two, three, four, five, six dolls!\" Anna says proudly.\n",
      "\"I have one, two, three, four, five, six, seven cars!\" Ben says, showing off his cars.\n",
      "\"Wow, you have more cars than me!\" Anna says, feeling a little sad.\n",
      "\"But you have more dolls than me!\" Ben says, trying to cheer her up.\n",
      "They hug and smile. They are happy to share their toys.\n",
      "But then, they hear a noise from the kitchen. It is their cat, Luna. Luna is very nosy. She likes to explore and touch everything. She sees a bowl of cookies on the table. She jumps on the table and tries to eat a cookie.\n",
      "\"Hey, that's our snack!\" Anna says, running to the kitchen.\n",
      "\"Stop, Luna, stop!\" Ben says, following Anna.\n",
      "They reach the kitchen and see Luna with a cookie in her mouth. She looks guilty and runs away.\n",
      "\"Oh no, she ate one of our cookies!\" Anna says, looking at the bowl.\n",
      "\"How many cookies are left?\" Ben asks, counting the cookies.\n",
      "\"One, two, three, four, five. Five cookies are left!\" Anna says.\n",
      "\"That's okay, we can still have one cookie each!\" Ben says.\n",
      "They take a cookie and eat it. They are happy to have a snack.\n",
      "But they also wonder what Luna is doing now. She is very nosy. Maybe she is looking for more cookies. Or maybe she is playing with their toys. They decide to go and find her. They love their cat, even if she is nosy. <|end_story|>\n"
     ]
    }
   ],
   "source": [
    "from datasets import load_dataset\n",
    "import random\n",
    "random.seed(42)\n",
    "\n",
    "\n",
    "raw_datasets = load_dataset(\"TinyStoriesV2_SpecialTokens\", split='train').shuffle(seed=42).select(range(100000))\n",
    "\n",
    "print(f'{raw_datasets[\"text\"][0][:-13]} <|end_story|>')"
   ]
  },
  {
   "cell_type": "code",
   "execution_count": 19,
   "metadata": {},
   "outputs": [
    {
     "name": "stderr",
     "output_type": "stream",
     "text": [
      "100%|██████████| 25/25 [00:09<00:00,  2.54it/s]\n"
     ]
    }
   ],
   "source": [
    "from tqdm import tqdm\n",
    "\n",
    "training_corpus = [\n",
    "    f\"{text[:-13]} \" for i in tqdm(range(0, len(raw_datasets[\"text\"]), 4096)) for text in raw_datasets[\"text\"][i:i+4096]\n",
    "]"
   ]
  },
  {
   "cell_type": "code",
   "execution_count": 20,
   "metadata": {},
   "outputs": [
    {
     "name": "stdout",
     "output_type": "stream",
     "text": [
      "LlamaTokenizerFast(name_or_path='tokenizer_draft_llama', vocab_size=32000, model_max_length=1000000000000000019884624838656, is_fast=True, padding_side='left', truncation_side='right', special_tokens={'bos_token': '<|start_story|>', 'eos_token': '<|end_story|>', 'unk_token': '<unk>', 'pad_token': '<unk>'}, clean_up_tokenization_spaces=False),  added_tokens_decoder={\n",
      "\t0: AddedToken(\"<unk>\", rstrip=False, lstrip=False, single_word=False, normalized=True, special=True),\n",
      "\t1: AddedToken(\"<|start_story|>\", rstrip=False, lstrip=False, single_word=False, normalized=True, special=True),\n",
      "\t2: AddedToken(\"<|end_story|>\", rstrip=False, lstrip=False, single_word=False, normalized=True, special=True),\n",
      "}\n",
      "['▁<|start_story|>', 'Once', '▁upon', '▁a', '▁time', ',', '▁in', '▁a', '▁big', '▁forest', ',', '▁there', '▁lived', '▁a', '▁r', 'hin', 'oc', 'eros', '▁named', '▁Ro', 'xy', '.', '▁Ro', 'xy', '▁loved', '▁to', '▁clim', 'b', '.', '▁She', '▁clim', 'bed', '▁trees', ',', '▁rocks', ',', '▁and', '▁hills', '.', '▁One', '▁day', ',', '▁Ro', 'xy', '▁found', '▁an', '▁', 'icy', '▁hill', '.', '▁She', '▁had', '▁never', '▁seen', '▁anything', '▁like', '▁it', '▁before', '.', '▁It', '▁was', '▁sh', 'iny', '▁and', '▁cold', ',', '▁and', '▁she', '▁wanted', '▁to', '▁clim', 'b', '▁it', '.', '▁Ro', 'xy', '▁tried', '▁to', '▁clim', 'b', '▁the', '▁', 'icy', '▁hill', ',', '▁but', '▁it', '▁was', '▁very', '▁sli', 'pp', 'ery', '.', '▁She', '▁tried', '▁again', '▁and', '▁again', ',', '▁but', '▁she', '▁kept', '▁falling', '▁down', '.', '▁Ro', 'xy', '▁was', '▁sad', '.', '▁She', '▁wanted', '▁to', '▁clim', 'b', '▁the', '▁', 'icy', '▁hill', '▁so', '▁much', '.', '▁Then', ',', '▁she', '▁saw', '▁a', '▁little', '▁bird', '▁named', '▁Billy', '.', '▁Billy', '▁saw', '▁that', '▁Ro', 'xy', '▁was', '▁sad', '▁and', '▁asked', ',', '▁\"', 'Why', '▁are', '▁you', '▁sad', ',', '▁Ro', 'xy', '?\"', '▁Ro', 'xy', '▁told', '▁Billy', '▁about', '▁the', '▁', 'icy', '▁hill', '▁and', '▁how', '▁she', '▁couldn', \"'\", 't', '▁clim', 'b', '▁it', '.', '▁Billy', '▁said', ',', '▁\"', 'I', '▁have', '▁an', '▁idea', '!', '▁Let', \"'\", 's', '▁find', '▁some', '▁big', '▁leaves', '▁to', '▁put', '▁under', '▁your', '▁feet', '.', '▁They', '▁will', '▁help', '▁you', '▁clim', 'b', '▁the', '▁', 'icy', '▁hill', '.\"', '▁Ro', 'xy', '▁and', '▁Billy', '▁looked', '▁for', '▁big', '▁leaves', '▁and', '▁found', '▁some', '.', '▁Ro', 'xy', '▁put', '▁the', '▁leaves', '▁under', '▁her', '▁feet', '▁and', '▁tried', '▁to', '▁clim', 'b', '▁the', '▁', 'icy', '▁hill', '▁again', '.', '▁This', '▁time', ',', '▁Ro', 'xy', '▁didn', \"'\", 't', '▁s', 'lip', '.', '▁She', '▁clim', 'bed', '▁and', '▁clim', 'bed', '▁until', '▁she', '▁reached', '▁the', '▁top', '▁of', '▁the', '▁', 'icy', '▁hill', '.', '▁Ro', 'xy', '▁was', '▁so', '▁happy', '!', '▁She', '▁and', '▁Billy', '▁played', '▁on', '▁the', '▁', 'icy', '▁hill', '▁all', '▁day', '.', '▁From', '▁that', '▁day', '▁on', ',', '▁Ro', 'xy', '▁and', '▁Billy', '▁were', '▁the', '▁best', '▁of', '▁friends', ',', '▁and', '▁they', '▁clim', 'bed', '▁and', '▁played', '▁together', '▁all', '▁the', '▁time', '.', '▁And', '▁Ro', 'xy', '▁learned', '▁that', '▁with', '▁a', '▁little', '▁help', '▁from', '▁a', '▁friend', ',', '▁she', '▁could', '▁clim', 'b', '▁anything', '.', '▁<|end_story|>']\n",
      "326\n"
     ]
    }
   ],
   "source": [
    "from transformers import AutoTokenizer, LlamaTokenizer\n",
    "old_tokenizer = AutoTokenizer.from_pretrained(\"tokenizer_draft_llama\")\n",
    "\n",
    "print(old_tokenizer)\n",
    "\n",
    "example = \"\"\"<|start_story|>Once upon a time, in a big forest, there lived a rhinoceros named Roxy. Roxy loved to climb. She climbed trees, rocks, and hills. One day, Roxy found an icy hill. She had never seen anything like it before. It was shiny and cold, and she wanted to climb it. Roxy tried to climb the icy hill, but it was very slippery. She tried again and again, but she kept falling down. Roxy was sad. She wanted to climb the icy hill so much. Then, she saw a little bird named Billy. Billy saw that Roxy was sad and asked, \"Why are you sad, Roxy?\" Roxy told Billy about the icy hill and how she couldn't climb it. Billy said, \"I have an idea! Let's find some big leaves to put under your feet. They will help you climb the icy hill.\" Roxy and Billy looked for big leaves and found some. Roxy put the leaves under her feet and tried to climb the icy hill again. This time, Roxy didn't slip. She climbed and climbed until she reached the top of the icy hill. Roxy was so happy! She and Billy played on the icy hill all day. From that day on, Roxy and Billy were the best of friends, and they climbed and played together all the time. And Roxy learned that with a little help from a friend, she could climb anything. <|end_story|>\"\"\"\n",
    "tokens = old_tokenizer.tokenize(example)\n",
    "print(tokens)\n",
    "print(len(tokens))"
   ]
  },
  {
   "cell_type": "code",
   "execution_count": 22,
   "metadata": {},
   "outputs": [
    {
     "name": "stdout",
     "output_type": "stream",
     "text": [
      "\n",
      "['▁<|start_story|>', '<unk>', '▁<|end_story|>']\n",
      "3\n"
     ]
    }
   ],
   "source": [
    "new_tokenizer_draft = AutoTokenizer.from_pretrained(\"tokenizer_empty_llama\")\n",
    "\n",
    "print()\n",
    "\n",
    "example = \"\"\"<|start_story|>Once upon a time, in a big forest, there lived a rhinoceros named Roxy. <|end_story|>\"\"\"\n",
    "tokens = new_tokenizer_draft.tokenize(example)\n",
    "print(tokens)\n",
    "print(len(tokens))"
   ]
  },
  {
   "cell_type": "code",
   "execution_count": 23,
   "metadata": {},
   "outputs": [
    {
     "name": "stderr",
     "output_type": "stream",
     "text": [
      "100000it [00:00, 114472.14it/s]\n"
     ]
    }
   ],
   "source": [
    "tokenizer = new_tokenizer_draft.train_new_from_iterator(tqdm(iter(training_corpus)), 2048)"
   ]
  },
  {
   "cell_type": "code",
   "execution_count": 24,
   "metadata": {},
   "outputs": [
    {
     "name": "stdout",
     "output_type": "stream",
     "text": [
      "['▁<|start_story|>', 'On', 'ce▁', 'upon▁a▁tim', 'e,▁', 'in▁a▁', 'big▁', 'forest', ',▁there▁lived▁a▁', 'r', 'h', 'in', 'o', 'c', 'er', 'o', 's▁', 'named▁', 'R', 'o', 'x', 'y.▁', 'R', 'o', 'x', 'y▁', 'loved▁to▁', 'climb', '.▁She▁', 'climbed▁', 'tre', 'es,▁', 'rock', 's,▁and▁', 'hill', 's.▁One▁day,▁', 'R', 'o', 'x', 'y▁', 'found▁', 'an▁', 'ic', 'y▁', 'hill', '.▁She▁', 'had▁', 'never▁', 'se', 'en', '▁any', 'thing▁', 'like▁', 'it▁', 'befor', 'e', '.▁It▁was▁', 'shin', 'y▁and▁', 'co', 'ld', ',▁and▁', 'she▁', 'wanted▁to▁', 'climb', '▁', 'it', '.▁', 'R', 'o', 'x', 'y▁', 'tried▁to▁', 'climb', '▁the▁', 'ic', 'y▁', 'hill', ',▁but▁it▁', 'was▁very▁', 's', 'li', 'pp', 'er', 'y.▁She▁', 'tri', 'ed▁a', 'gain', '▁and▁', 'again', ',▁but▁she▁', 'kept▁', 'fall', 'ing▁', 'down', '.▁', 'R', 'o', 'x', 'y▁', 'was▁sad', '.▁She▁wanted▁to▁', 'climb', '▁the▁', 'ic', 'y▁', 'h', 'ill▁', 'so▁', 'much', '.▁Then,▁', 'she▁', 'saw▁a▁', 'little▁bird▁', 'named▁', 'B', 'ill', 'y.▁', 'B', 'ill', 'y▁', 'saw▁', 'that▁', 'R', 'o', 'x', 'y▁was▁', 'sad▁and▁', 'asked,▁\"', 'Why▁are▁you▁', 'sad', ',▁', 'R', 'o', 'x', 'y', '?\"▁', 'R', 'o', 'x', 'y▁', 'told▁', 'B', 'ill', 'y▁a', 'b', 'out▁the▁', 'ic', 'y▁', 'hill', '▁and▁', 'how▁', 'she▁', \"couldn't▁\", 'climb', '▁', 'it', '.▁B', 'ill', 'y▁', 'said,▁\"I▁', 'have▁', 'an▁', 'idea', '!▁', \"Let's▁\", 'find▁', 'some▁', 'big▁', 'leav', 'es▁to▁', 'put▁', 'un', 'der▁', 'your▁', 'fe', 'et', '.▁They▁', 'will▁', 'help▁you▁', 'climb', '▁the▁', 'ic', 'y▁', 'hill', '.\"▁', 'R', 'o', 'x', 'y▁and▁', 'B', 'ill', 'y▁', 'looked▁', 'for▁', 'big▁', 'leav', 'es▁and▁', 'found▁', 'som', 'e.▁', 'R', 'o', 'x', 'y▁', 'put▁the▁', 'leav', 'es▁', 'un', 'der▁', 'her▁', 'fe', 'et▁and▁', 'tried▁to▁', 'climb', '▁the▁', 'ic', 'y▁', 'hill', '▁again', '.▁This▁', 'time,▁', 'R', 'o', 'x', 'y▁', \"didn't▁\", 's', 'li', 'p', '.▁She▁', 'climb', 'ed▁and▁', 'climbed▁', 'until▁', 'she▁', 'reach', 'ed▁the▁', 'top▁', 'of▁the▁', 'ic', 'y▁', 'hill', '.▁', 'R', 'o', 'x', 'y▁', 'was▁so▁happy', '!▁', 'She▁', 'and▁', 'B', 'ill', 'y▁', 'played▁', 'on▁the▁', 'ic', 'y▁', 'hill', '▁all▁day', '.▁From▁that▁day▁on,▁', 'R', 'o', 'x', 'y▁and▁', 'B', 'ill', 'y▁', 'were▁', 'the▁best▁', 'of▁', 'friends', ',▁and▁they▁', 'climb', 'ed▁and▁', 'played▁together', '▁all▁the▁', 'tim', 'e.▁', 'And▁', 'R', 'o', 'x', 'y▁', 'learned▁that▁', 'with▁a▁', 'little▁', 'help▁', 'from', '▁a▁', 'friend,▁', 'she▁could▁', 'climb', '▁any', 'thing', '.', '▁<|end_story|>']\n",
      "298\n"
     ]
    }
   ],
   "source": [
    "example = \"\"\"<|start_story|>Once upon a time, in a big forest, there lived a rhinoceros named Roxy. Roxy loved to climb. She climbed trees, rocks, and hills. One day, Roxy found an icy hill. She had never seen anything like it before. It was shiny and cold, and she wanted to climb it. Roxy tried to climb the icy hill, but it was very slippery. She tried again and again, but she kept falling down. Roxy was sad. She wanted to climb the icy hill so much. Then, she saw a little bird named Billy. Billy saw that Roxy was sad and asked, \"Why are you sad, Roxy?\" Roxy told Billy about the icy hill and how she couldn't climb it. Billy said, \"I have an idea! Let's find some big leaves to put under your feet. They will help you climb the icy hill.\" Roxy and Billy looked for big leaves and found some. Roxy put the leaves under her feet and tried to climb the icy hill again. This time, Roxy didn't slip. She climbed and climbed until she reached the top of the icy hill. Roxy was so happy! She and Billy played on the icy hill all day. From that day on, Roxy and Billy were the best of friends, and they climbed and played together all the time. And Roxy learned that with a little help from a friend, she could climb anything. <|end_story|>\"\"\"\n",
    "\n",
    "tokens = tokenizer.tokenize(example)\n",
    "print(tokens)\n",
    "print(len(tokens))"
   ]
  },
  {
   "cell_type": "code",
   "execution_count": 25,
   "metadata": {},
   "outputs": [
    {
     "data": {
      "text/plain": [
       "('story_tokenizer_2048\\\\tokenizer_config.json',\n",
       " 'story_tokenizer_2048\\\\special_tokens_map.json',\n",
       " 'story_tokenizer_2048\\\\tokenizer.json')"
      ]
     },
     "execution_count": 25,
     "metadata": {},
     "output_type": "execute_result"
    }
   ],
   "source": [
    "tokenizer.save_pretrained(\"story_tokenizer_2048\")"
   ]
  }
 ],
 "metadata": {
  "kernelspec": {
   "display_name": "textgen",
   "language": "python",
   "name": "python3"
  },
  "language_info": {
   "codemirror_mode": {
    "name": "ipython",
    "version": 3
   },
   "file_extension": ".py",
   "mimetype": "text/x-python",
   "name": "python",
   "nbconvert_exporter": "python",
   "pygments_lexer": "ipython3",
   "version": "3.11.7"
  }
 },
 "nbformat": 4,
 "nbformat_minor": 2
}
